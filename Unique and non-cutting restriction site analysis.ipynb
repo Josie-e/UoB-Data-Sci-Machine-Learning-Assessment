{
 "cells": [
  {
   "cell_type": "code",
   "execution_count": 1,
   "metadata": {},
   "outputs": [],
   "source": [
    "#If required download Biopython with this code:\n",
    "##pip install biopython\n",
    "\n",
    "import Bio\n",
    "from Bio.Seq import Seq\n",
    "from Bio import SeqIO\n",
    "from Bio.Restriction import *\n",
    "\n",
    "#Sequence1 file input:\n",
    "sequence1 = SeqIO.read(\"./addgene_pUC19.fasta\", \"fasta\")\n",
    "#seqeunce1 = Seq(\"{Paste sequence here}\") #If paste sequence directly: remove the .seq from sequence1.seq in Analysis function below\n",
    "\n",
    "#Sequence2 file input:\n",
    "sequence2 = SeqIO.read(\"./dCas9.fasta\", \"fasta\")\n",
    "#sequence2 = Seq(\"{Paste sequence here}\") #If paste sequence directly: remove the .seq from sequence2.seq in Analysis function below\n",
    "\n",
    "\n",
    "#Define database want to search against: here New England Biolabs restriction enzyme database, \n",
    "##change/add 'suppliers='' codes to search other databases\n",
    "restriction_search_database = RestrictionBatch(first=[], suppliers=['N'])\n",
    "\n",
    "#Analyse all restriction site positions in the sequences\n",
    "## replace restriction_search_database with 'AllEnzymes' or 'CommOnly' to search against all restriction enzymes or commercially avialable restriction enzymes respectively\n",
    "seq1_rs_lib = Analysis(restriction_search_database, sequence1.seq, linear = False) #Linear = False denotes circular DNA\n",
    "seq2_rs_lib = Analysis(restriction_search_database, sequence2.seq, linear = True)"
   ]
  },
  {
   "cell_type": "code",
   "execution_count": 2,
   "metadata": {},
   "outputs": [],
   "source": [
    "import Restriction_analysis_module1\n",
    "result = Restriction_analysis_module1.restriction_sites_analysis(seq1_rs_lib, seq2_rs_lib)"
   ]
  },
  {
   "cell_type": "code",
   "execution_count": 3,
   "metadata": {},
   "outputs": [
    {
     "name": "stdout",
     "output_type": "stream",
     "text": [
      "Non_cutting_enzymes: AfeI, AflII, AgeI, ApaI, AscI, AsiSI, AvrII, BaeI, BbvCI, BglII, BseRI, BsiWI, BspDI, BspEI, BsrGI, BssHII, BstEII, BstXI, Bsu36I, BtgZI, ClaI, CspCI, DraIII, EagI, EcoNI, FseI, HpaI, MscI, NaeI, NgoMIV, NotI, NsiI, PacI, PaeR7I, PflFI, PflMI, PmeI, PpuMI, PspOMI, PspXI, RsrII, SacII, SexAI, SfiI, SgrAI, SnaBI, SpeI, SrfI, StuI, Tth111I, XcmI, XhoI\n",
      "\n",
      "Sequence1_unique_enzymes: AatII, AhdI, AlwNI, AvaI, BsaI, BseYI, BsoBI, BspQI, BsrFI, EcoO109I, KasI, NarI, NmeAIII, PluTI, PstI, SalI, SapI, SbfI, SfoI, SmaI, TspMI, XbaI, XmaI, ZraI\n",
      "\n",
      "Sequence2_unique_enzymes: AleI, BmgBI, BmtI, BsgI, BsmFI, BsmI, BstBI, BstZ17I, BtgI, MluI, NcoI, NheI, NruI, PmlI, SwaI\n",
      "\n"
     ]
    }
   ],
   "source": [
    "for key in result:\n",
    "    print(f\"{key}: {', '.join(result[key].elements())}\\n\")"
   ]
  },
  {
   "cell_type": "code",
   "execution_count": null,
   "metadata": {},
   "outputs": [],
   "source": []
  }
 ],
 "metadata": {
  "kernelspec": {
   "display_name": "Python 3",
   "language": "python",
   "name": "python3"
  },
  "language_info": {
   "codemirror_mode": {
    "name": "ipython",
    "version": 3
   },
   "file_extension": ".py",
   "mimetype": "text/x-python",
   "name": "python",
   "nbconvert_exporter": "python",
   "pygments_lexer": "ipython3",
   "version": "3.8.5"
  }
 },
 "nbformat": 4,
 "nbformat_minor": 4
}
